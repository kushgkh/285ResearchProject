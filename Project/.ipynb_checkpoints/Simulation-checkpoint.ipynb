{
 "cells": [
  {
   "cell_type": "code",
   "execution_count": 11,
   "metadata": {},
   "outputs": [],
   "source": [
    "import numpy as np\n",
    "import math"
   ]
  },
  {
   "cell_type": "code",
   "execution_count": 44,
   "metadata": {},
   "outputs": [],
   "source": [
    "class Market:\n",
    "    def __init__(self , sellFactor, marketFunc):\n",
    "        self.sellFactor = sellFactor\n",
    "        self.time = 0\n",
    "        self.marketFunc = marketFunc\n",
    "        \n",
    "    def nextStep(self):\n",
    "        self.time +=1\n",
    "        return self.time\n",
    "        \n",
    "    def getBuyPrice(self):\n",
    "        return self.marketFunc(self.time)\n",
    "    \n",
    "    def getSellPrice(self):\n",
    "        return self.getBuyPrice() * self.sellFactor\n",
    "    \n",
    "    "
   ]
  },
  {
   "cell_type": "code",
   "execution_count": 50,
   "metadata": {
    "collapsed": true
   },
   "outputs": [],
   "source": [
    "class Player:\n",
    "    def __init__(self, market , startMoney , startStock = 0):\n",
    "        self.money = startMoney\n",
    "        self.stock = startStock\n",
    "        self.market = market\n",
    "    \n",
    "    def buyStock(self ):\n",
    "        stockPrice = self.market.getBuyPrice()\n",
    "        if(self.money >= stockPrice):\n",
    "            self.money -= stockPrice\n",
    "            self.stock += 1\n",
    "            return 1\n",
    "        else:\n",
    "            return 0\n",
    "    \n",
    "    def sellStock(self):\n",
    "        stockPrice = self.market.getSellPrice()\n",
    "        if(self.stock >= 1):\n",
    "            self.money += stockPrice\n",
    "            self.stock -=1\n",
    "            return 1\n",
    "        else:\n",
    "            return 0\n",
    "        \n",
    "    def buyOther(self , other , price):\n",
    "        if(self.money >= price and other.stock >= 1):\n",
    "            self.money -= price\n",
    "            self.stock += 1\n",
    "            \n",
    "            other.money += price\n",
    "            other.stock -=1          \n",
    "            return 1\n",
    "        else:\n",
    "            return 0\n",
    "        \n",
    "    def getValue(self):\n",
    "        stockPrice = self.market.getSellPrice()\n",
    "        return stockPrice * self.stock + self.money\n",
    "    \n",
    "    \n",
    "    \n",
    "    "
   ]
  },
  {
   "cell_type": "code",
   "execution_count": 46,
   "metadata": {
    "collapsed": true
   },
   "outputs": [],
   "source": [
    "def sinFunc(t):\n",
    "    return 10 * math.sin(t) + 20"
   ]
  },
  {
   "cell_type": "code",
   "execution_count": 47,
   "metadata": {},
   "outputs": [
    {
     "name": "stdout",
     "output_type": "stream",
     "text": [
      "20.0\n",
      "28.414709848078964\n",
      "25.57323886327107\n"
     ]
    }
   ],
   "source": [
    "myMarket = Market(0.9 , sinFunc)\n",
    "print(myMarket.getBuyPrice())\n",
    "myMarket.nextStep()\n",
    "print(myMarket.getBuyPrice())\n",
    "print(myMarket.getSellPrice())\n"
   ]
  },
  {
   "cell_type": "code",
   "execution_count": 62,
   "metadata": {},
   "outputs": [
    {
     "data": {
      "text/plain": [
       "1"
      ]
     },
     "execution_count": 62,
     "metadata": {},
     "output_type": "execute_result"
    }
   ],
   "source": [
    "myPlayer = Player(myMarket , 100)\n",
    "myPlayer.buyStock()\n",
    "myPlayer.buyStock()\n",
    "myPlayer.buyStock()\n",
    "myPlayer.buyStock()\n",
    "myPlayer.buyStock()\n",
    "myPlayer.sellStock()\n",
    "myPlayer.sellStock()\n",
    "\n",
    "\n",
    "myPlayer2 = Player(myMarket , 100)\n",
    "myPlayer2.buyOther(myPlayer , 20)"
   ]
  }
 ],
 "metadata": {
  "kernelspec": {
   "display_name": "Python 3",
   "language": "python",
   "name": "python3"
  },
  "language_info": {
   "codemirror_mode": {
    "name": "ipython",
    "version": 3
   },
   "file_extension": ".py",
   "mimetype": "text/x-python",
   "name": "python",
   "nbconvert_exporter": "python",
   "pygments_lexer": "ipython3",
   "version": "3.6.3"
  }
 },
 "nbformat": 4,
 "nbformat_minor": 2
}
