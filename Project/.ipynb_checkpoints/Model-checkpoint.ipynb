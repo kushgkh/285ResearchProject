{
 "cells": [
  {
   "cell_type": "code",
   "execution_count": 2,
   "metadata": {},
   "outputs": [],
   "source": [
    "import tensorflow as tf\n",
    "import tensorflow.contrib.slim as slim\n",
    "import numpy as np\n",
    "import pandas as pd\n",
    "import matplotlib.pyplot as plt\n",
    "import sim"
   ]
  },
  {
   "cell_type": "code",
   "execution_count": 5,
   "metadata": {},
   "outputs": [],
   "source": [
    "class agent():\n",
    "    def __init__(self, lr, s_size,a_size):\n",
    "        #These lines established the feed-forward part of the network. The agent takes a state and produces an action.\n",
    "        self.state_in= tf.placeholder(shape=[1, 10],dtype=tf.int32)\n",
    "        state_in_OH = slim.one_hot_encoding(self.state_in,s_size)\n",
    "        output = slim.fully_connected(state_in_OH,a_size,\\\n",
    "            biases_initializer=None,activation_fn=tf.nn.sigmoid,weights_initializer=tf.ones_initializer())\n",
    "        self.output = tf.reshape(output,[-1])\n",
    "        self.chosen_action = tf.argmax(self.output,0)\n",
    "\n",
    "        #The next six lines establish the training proceedure. We feed the reward and chosen action into the network\n",
    "        #to compute the loss, and use it to update the network.\n",
    "        self.reward_holder = tf.placeholder(shape=[1],dtype=tf.float32)\n",
    "        self.action_holder = tf.placeholder(shape=[1],dtype=tf.int32)\n",
    "        self.responsible_weight = tf.slice(self.output,self.action_holder,[1])\n",
    "        self.loss = -(tf.log(self.responsible_weight)*self.reward_holder)\n",
    "        optimizer = tf.train.GradientDescentOptimizer(learning_rate=lr)\n",
    "        self.update = optimizer.minimize(self.loss)"
   ]
  },
  {
   "cell_type": "code",
   "execution_count": 6,
   "metadata": {},
   "outputs": [
    {
     "name": "stdout",
     "output_type": "stream",
     "text": [
      "WARNING:tensorflow:From /Users/ramimostafa/anaconda3/lib/python3.7/site-packages/tensorflow/python/util/tf_should_use.py:193: initialize_all_variables (from tensorflow.python.ops.variables) is deprecated and will be removed after 2017-03-02.\n",
      "Instructions for updating:\n",
      "Use `tf.global_variables_initializer` instead.\n",
      "Episode:  0\n",
      "Episode:  1\n",
      "Episode:  2\n",
      "Episode:  3\n",
      "Episode:  4\n",
      "Episode:  5\n",
      "Episode:  6\n",
      "Episode:  7\n",
      "Episode:  8\n",
      "Episode:  9\n",
      "Episode:  10\n",
      "Episode:  11\n",
      "Episode:  12\n",
      "Episode:  13\n",
      "Episode:  14\n",
      "Episode:  15\n",
      "Episode:  16\n",
      "Episode:  17\n",
      "Episode:  18\n",
      "Episode:  19\n",
      "Episode:  20\n",
      "Episode:  21\n",
      "Episode:  22\n",
      "Episode:  23\n",
      "Episode:  24\n",
      "Episode:  25\n",
      "Episode:  26\n",
      "Episode:  27\n",
      "Episode:  28\n",
      "Episode:  29\n",
      "Episode:  30\n",
      "Episode:  31\n",
      "Episode:  32\n",
      "Episode:  33\n",
      "Episode:  34\n",
      "Episode:  35\n",
      "Episode:  36\n",
      "Episode:  37\n",
      "Episode:  38\n",
      "Episode:  39\n",
      "Episode:  40\n",
      "Episode:  41\n",
      "Episode:  42\n",
      "Episode:  43\n",
      "Episode:  44\n",
      "Episode:  45\n",
      "Episode:  46\n",
      "Episode:  47\n",
      "Episode:  48\n",
      "Episode:  49\n",
      "Episode:  50\n",
      "Episode:  51\n",
      "Episode:  52\n",
      "Episode:  53\n",
      "Episode:  54\n",
      "Episode:  55\n",
      "Episode:  56\n",
      "Episode:  57\n",
      "Episode:  58\n",
      "Episode:  59\n",
      "Episode:  60\n",
      "Episode:  61\n",
      "Episode:  62\n",
      "Episode:  63\n",
      "Episode:  64\n",
      "Episode:  65\n",
      "Episode:  66\n",
      "Episode:  67\n",
      "Episode:  68\n",
      "Episode:  69\n",
      "Episode:  70\n",
      "Episode:  71\n",
      "Episode:  72\n",
      "Episode:  73\n",
      "Episode:  74\n",
      "Episode:  75\n",
      "Episode:  76\n",
      "Episode:  77\n",
      "Episode:  78\n",
      "Episode:  79\n",
      "Episode:  80\n",
      "Episode:  81\n",
      "Episode:  82\n",
      "Episode:  83\n",
      "Episode:  84\n",
      "Episode:  85\n",
      "Episode:  86\n",
      "Episode:  87\n",
      "Episode:  88\n",
      "Episode:  89\n",
      "Episode:  90\n",
      "Episode:  91\n",
      "Episode:  92\n",
      "Episode:  93\n",
      "Episode:  94\n",
      "Episode:  95\n",
      "Episode:  96\n",
      "Episode:  97\n",
      "Episode:  98\n",
      "Episode:  99\n"
     ]
    }
   ],
   "source": [
    "tf.reset_default_graph() #Clear the Tensorflow graph.\n",
    "\n",
    "# cBandit = contextual_bandit() #Load the bandits.\n",
    "myAgent = agent(lr=0.001,s_size=100,a_size=3) #Load the agent.\n",
    "weights = tf.trainable_variables()[0] #The weights we will evaluate to look into the network.\n",
    "\n",
    "total_episodes = 100 #Set total number of episodes to train agent on.\n",
    "# total_reward = np.zeros([1000,100]) #Set scoreboard for bandits to 0.\n",
    "e = 0.001 #Set the chance of taking a random action.\n",
    "\n",
    "rewards = []\n",
    "actions = []\n",
    "\n",
    "init = tf.initialize_all_variables()\n",
    "\n",
    "# Launch the tensorflow graph\n",
    "with tf.Session() as sess:\n",
    "    sess.run(init)\n",
    "    for i in range(total_episodes):\n",
    "        print(\"Episode: \", i)\n",
    "        \n",
    "        market = sim.Market(0.9, sim.sinFunc)\n",
    "        player1 = sim.Player(market, 100)\n",
    "        player2 = sim.Player(market, 100)\n",
    "        \n",
    "        for _ in range(100):\n",
    "            s = market.getState()\n",
    "            #Choose either a random action or one from our network.\n",
    "            if np.random.rand(1) < e:\n",
    "                action = np.random.randint(100)\n",
    "            else:\n",
    "                action = sess.run(myAgent.chosen_action,feed_dict={myAgent.state_in:[s]})\n",
    "                \n",
    "            actions.append(action)\n",
    "\n",
    "            player1.buyPrice = int(np.random.rand() * 100)\n",
    "            player1.sellPrice = int(np.random.rand() * 100)\n",
    "\n",
    "            player2.buyPrice = int(np.random.rand() * 100)\n",
    "            player2.sellPrice = int(np.random.rand() * 100)\n",
    "\n",
    "            market.nextStep()\n",
    "        \n",
    "        reward = market.getReward()\n",
    "        rewards.append(reward)\n",
    "        #Update the network.\n",
    "        feed_dict={myAgent.reward_holder:[reward],myAgent.action_holder:[action],myAgent.state_in:[s]}\n",
    "        _,ww = sess.run([myAgent.update,weights], feed_dict=feed_dict)\n",
    "        "
   ]
  },
  {
   "cell_type": "code",
   "execution_count": 9,
   "metadata": {},
   "outputs": [
    {
     "data": {
      "text/plain": [
       "[<matplotlib.lines.Line2D at 0x147bbcac8>]"
      ]
     },
     "execution_count": 9,
     "metadata": {},
     "output_type": "execute_result"
    },
    {
     "data": {
      "image/png": "[encoded data removed]",
      "text/plain": [
       "<Figure size 432x288 with 1 Axes>"
      ]
     },
     "metadata": {
      "needs_background": "light"
     },
     "output_type": "display_data"
    }
   ],
   "source": [
    "plt.plot(rewards[::10])\n",
    "plt.plot([100 for _ in range(100)][::10])"
   ]
  },
  {
   "cell_type": "code",
   "execution_count": 43,
   "metadata": {},
   "outputs": [
    {
     "data": {
      "text/plain": [
       "[<matplotlib.lines.Line2D at 0x144da2b00>]"
      ]
     },
     "execution_count": 43,
     "metadata": {},
     "output_type": "execute_result"
    },
    {
     "data": {
      "image/png": "[encoded data removed]",
      "text/plain": [
       "<Figure size 432x288 with 1 Axes>"
      ]
     },
     "metadata": {
      "needs_background": "light"
     },
     "output_type": "display_data"
    }
   ],
   "source": [
    "plt.plot(actions[])"
   ]
  },
  {
   "cell_type": "code",
   "execution_count": null,
   "metadata": {},
   "outputs": [],
   "source": []
  }
 ],
 "metadata": {
  "kernelspec": {
   "display_name": "Python 3",
   "language": "python",
   "name": "python3"
  },
  "language_info": {
   "codemirror_mode": {
    "name": "ipython",
    "version": 3
   },
   "file_extension": ".py",
   "mimetype": "text/x-python",
   "name": "python",
   "nbconvert_exporter": "python",
   "pygments_lexer": "ipython3",
   "version": "3.7.1"
  }
 },
 "nbformat": 4,
 "nbformat_minor": 2
}
