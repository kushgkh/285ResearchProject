{
 "cells": [
  {
   "cell_type": "code",
   "execution_count": 19,
   "metadata": {
    "collapsed": true
   },
   "outputs": [],
   "source": [
    "import numpy as np\n",
    "import math"
   ]
  },
  {
   "cell_type": "code",
   "execution_count": 50,
   "metadata": {
    "collapsed": true
   },
   "outputs": [],
   "source": [
    "class Market:\n",
    "    def __init__(self , sellFactor, marketFunc ):\n",
    "        self.sellFactor = sellFactor\n",
    "        self.time = 0\n",
    "        self.marketFunc = marketFunc\n",
    "        \n",
    "        \n",
    "    def nextStep(self):\n",
    "        self.time +=1\n",
    "        return self.time\n",
    "        \n",
    "    def getBuyPrice(self):\n",
    "        return self.marketFunc(self.time)\n",
    "    \n",
    "    def getSellPrice(self):\n",
    "        return self.getBuyPrice() * self.sellFactor\n",
    "    \n",
    "    "
   ]
  },
  {
   "cell_type": "code",
   "execution_count": 63,
   "metadata": {},
   "outputs": [],
   "source": [
    "class Player:\n",
    "    def __init__(self, market , startMoney , buySellPriceFunc=0, name=\"Bot\" , startStock = 0):\n",
    "        self.money = startMoney\n",
    "        self.stock = startStock\n",
    "        self.market = market\n",
    "        self.buySellPriceFunc = buySellPriceFunc\n",
    "        self.buyPrice = 0\n",
    "        self.sellPrice = 0 \n",
    "        self.name = name\n",
    "            \n",
    "    def buyStock(self ):\n",
    "        stockPrice = self.market.getBuyPrice()\n",
    "        if(self.money >= stockPrice):\n",
    "            print(self.name , \"bought stock from the market for $\" , stockPrice)\n",
    "            self.money -= stockPrice\n",
    "            self.stock += 1\n",
    "            return 1\n",
    "        else:\n",
    "            return 0\n",
    "    \n",
    "    def sellStock(self):\n",
    "        stockPrice = self.market.getSellPrice()\n",
    "        if(self.stock >= 1):\n",
    "            print(self.name , \"sold stock to the market for $\" , stockPrice)\n",
    "            self.money += stockPrice\n",
    "            self.stock -=1\n",
    "            return 1\n",
    "        else:\n",
    "            return 0\n",
    "        \n",
    "    def buyOther(self , other , price):\n",
    "        if(self.money >= price and other.stock >= 1):\n",
    "            print(self.name , \"bought stock from \" , other.name , \" for $\" , price)\n",
    "            self.money -= price\n",
    "            self.stock += 1\n",
    "            \n",
    "            other.money += price\n",
    "            other.stock -=1          \n",
    "            return 1\n",
    "        else:\n",
    "            return 0\n",
    "        \n",
    "    def value(self):\n",
    "        stockPrice = self.market.getSellPrice()\n",
    "        return stockPrice * self.stock + self.money\n",
    "    \n",
    "    def setBuySellPrice(self , inputDict):\n",
    "        self.buyPrice , self.sellPrice = self.buySellPriceFunc(inputDict)\n",
    "    \n",
    "    \n",
    "    \n",
    "    "
   ]
  },
  {
   "cell_type": "code",
   "execution_count": 23,
   "metadata": {
    "collapsed": true
   },
   "outputs": [],
   "source": [
    "def sinFunc(t):\n",
    "    return 10 * math.sin(t) + 20"
   ]
  },
  {
   "cell_type": "code",
   "execution_count": 24,
   "metadata": {
    "collapsed": true
   },
   "outputs": [],
   "source": [
    "def marketPrice(inputDict):\n",
    "    \n",
    "        #model here\n",
    "        \n",
    "        return inputDict[\"marketBuyPrice\"] , inputDict[\"marketSellPrice\"]\n",
    "\n",
    "def flatRate(inputDict):\n",
    "        \n",
    "        \n",
    "        \n",
    "        return 50 , 55\n",
    "\n",
    "def randomSet(inputDict):\n",
    "        return np.random.rand() * 100 , np.random.rand() * 100\n",
    "    \n",
    "    \n",
    "    "
   ]
  },
  {
   "cell_type": "code",
   "execution_count": 25,
   "metadata": {},
   "outputs": [
    {
     "data": {
      "text/plain": [
       "(52.523821314672546, 19.02641291906326)"
      ]
     },
     "execution_count": 25,
     "metadata": {},
     "output_type": "execute_result"
    }
   ],
   "source": [
    "randomSet(3)"
   ]
  },
  {
   "cell_type": "code",
   "execution_count": null,
   "metadata": {
    "collapsed": true
   },
   "outputs": [],
   "source": [
    "#player 0 -> buyPrice = 50 means willing to buy from $0 - $50\n",
    "#player 0 -> sellPrice = 70 means willing to sell from $70+\n",
    "#player 1 -> buyPrice = 20 means willing to buy from $0 - $20\n",
    "#player 1 -> sellPrice  = 30 means willing to sell from $30+\n",
    "\n",
    "\n",
    "\n",
    "min(avg(prices) , marketprice-1) > 1.sellprice\n",
    "\n",
    "#market price = 35??\n",
    "\n",
    "#player 0 and 1 will trade at $40  where stock will move 1 -> 0\n"
   ]
  },
  {
   "cell_type": "code",
   "execution_count": 27,
   "metadata": {},
   "outputs": [
    {
     "data": {
      "text/plain": [
       "<__main__.Player at 0x1b7695b5748>"
      ]
     },
     "execution_count": 27,
     "metadata": {},
     "output_type": "execute_result"
    }
   ],
   "source": [
    "player"
   ]
  },
  {
   "cell_type": "code",
   "execution_count": 64,
   "metadata": {},
   "outputs": [
    {
     "name": "stdout",
     "output_type": "stream",
     "text": [
      "p1 bought stock from the market for $ 28.414709848078964\n",
      "p2 bought stock from the market for $ 28.414709848078964\n",
      "p2 bought stock from  p1  for $ 55.0\n",
      "p1 bought stock from the market for $ 28.414709848078964\n",
      "p1 bought stock from the market for $ 28.414709848078964\n",
      "p1 bought stock from the market for $ 28.414709848078964\n",
      "p1 bought stock from the market for $ 28.414709848078964\n",
      "p2 sold stock to the market for $ 26.183676841431136\n",
      "p2 bought stock from the market for $ 29.092974268256818\n",
      "p2 sold stock to the market for $ 26.183676841431136\n",
      "p2 bought stock from the market for $ 21.41120008059867\n",
      "p1 bought stock from the market for $ 12.431975046920718\n",
      "p2 bought stock from the market for $ 12.431975046920718\n",
      "p2 sold stock to the market for $ 13.170843737996085\n",
      "p2 bought stock from the market for $ 14.63427081999565\n",
      "p2 sold stock to the market for $ 26.915466201253835\n",
      "p2 sold stock to the market for $ 26.915466201253835\n",
      "p2 bought stock from the market for $ 29.906073556948705\n",
      "p2 bought stock from the market for $ 17.120966833349346\n",
      "p2 bought stock from the market for $ 10.386025081204432\n",
      "p2 sold stock to the market for $ 26.21650725654865\n",
      "131.5770119954277\n",
      "105.83696331420732\n"
     ]
    }
   ],
   "source": [
    "\n",
    "market = Market(0.9 , sinFunc)\n",
    "\n",
    "\n",
    "players = []\n",
    "players.append(Player(market , 100 , flatRate , name = \"p1\" ))\n",
    "players.append(Player(market , 100 , randomSet  , name = \"p2\"))\n",
    "\n",
    "for rounds in range(20):\n",
    "    market.nextStep()\n",
    "    inputDict = {}\n",
    "    inputDict[\"marketBuyPrice\"] , inputDict[\"marketSellPrice\"] = market.getBuyPrice() , market.getSellPrice()\n",
    "\n",
    "    for player in players:\n",
    "        player.setBuySellPrice(inputDict)\n",
    "\n",
    "    for i in range(5):\n",
    "        if(players[0].buyPrice >= players[1].sellPrice):\n",
    "            players[0].buyOther(players[1] , (players[0].buyPrice + players[1].sellPrice)//2 )\n",
    "            for player in players:\n",
    "                player.setBuySellPrice(inputDict)       \n",
    "\n",
    "        if(players[1].buyPrice >= players[0].sellPrice):\n",
    "            players[1].buyOther(players[0] , (players[1].buyPrice + players[0].sellPrice)//2 )\n",
    "            for player in players:\n",
    "                player.setBuySellPrice(inputDict)\n",
    "        for player in players:\n",
    "            if(player.buyPrice >= market.getBuyPrice()):\n",
    "                player.buyStock()\n",
    "                player.setBuySellPrice(inputDict)\n",
    "\n",
    "            if(player.sellPrice <= market.getSellPrice()):\n",
    "                player.sellStock()\n",
    "                player.setBuySellPrice(inputDict)\n",
    "    \n",
    "    \n",
    "    \n",
    "print(players[0].value())\n",
    "print(players[1].value())\n",
    "\n",
    "\n",
    "\n",
    "    "
   ]
  },
  {
   "cell_type": "code",
   "execution_count": 47,
   "metadata": {},
   "outputs": [
    {
     "name": "stdout",
     "output_type": "stream",
     "text": [
      "20.0\n",
      "28.414709848078964\n",
      "25.57323886327107\n"
     ]
    }
   ],
   "source": [
    "myMarket = Market(0.9 , sinFunc)\n",
    "print(myMarket.getBuyPrice())\n",
    "myMarket.nextStep()\n",
    "print(myMarket.getBuyPrice())\n",
    "print(myMarket.getSellPrice())\n"
   ]
  },
  {
   "cell_type": "code",
   "execution_count": 62,
   "metadata": {},
   "outputs": [
    {
     "data": {
      "text/plain": [
       "1"
      ]
     },
     "execution_count": 62,
     "metadata": {},
     "output_type": "execute_result"
    }
   ],
   "source": [
    "myPlayer = Player(myMarket , 100)\n",
    "myPlayer.buyStock()\n",
    "myPlayer.buyStock()\n",
    "myPlayer.buyStock()\n",
    "myPlayer.buyStock()\n",
    "myPlayer.buyStock()\n",
    "myPlayer.sellStock()\n",
    "myPlayer.sellStock()\n",
    "\n",
    "\n",
    "myPlayer2 = Player(myMarket , 100)\n",
    "myPlayer2.buyOther(myPlayer , 20)"
   ]
  }
 ],
 "metadata": {
  "kernelspec": {
   "display_name": "Python 3",
   "language": "python",
   "name": "python3"
  },
  "language_info": {
   "codemirror_mode": {
    "name": "ipython",
    "version": 3
   },
   "file_extension": ".py",
   "mimetype": "text/x-python",
   "name": "python",
   "nbconvert_exporter": "python",
   "pygments_lexer": "ipython3",
   "version": "3.7.1"
  }
 },
 "nbformat": 4,
 "nbformat_minor": 2
}
